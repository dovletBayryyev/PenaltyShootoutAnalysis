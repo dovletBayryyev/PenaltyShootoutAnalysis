{
 "cells": [
  {
   "cell_type": "code",
   "execution_count": 2,
   "id": "ea9d8692",
   "metadata": {},
   "outputs": [],
   "source": [
    "import pandas as pd\n",
    "import matplotlib.pyplot as plt\n"
   ]
  },
  {
   "cell_type": "code",
   "execution_count": 3,
   "id": "fc61f0ab",
   "metadata": {},
   "outputs": [],
   "source": [
    "worldcup_df = pd.read_csv(\"data/WorldCupShootout.csv\")\n",
    "euro_df = pd.read_csv(\"data/EuroShootout.csv\")\n",
    "copa_df = pd.read_csv(\"data/CopaAmericaShootout.csv\")\n"
   ]
  },
  {
   "cell_type": "code",
   "execution_count": 4,
   "id": "9320dce1",
   "metadata": {},
   "outputs": [],
   "source": [
    "combined_df = pd.concat([worldcup_df,euro_df,copa_df])"
   ]
  },
  {
   "cell_type": "code",
   "execution_count": 5,
   "id": "04a07e8e",
   "metadata": {},
   "outputs": [],
   "source": [
    "combined_df[\"FirstShooterWon\"] = combined_df['First Shooter'] == combined_df['Winner']"
   ]
  },
  {
   "cell_type": "code",
   "execution_count": 6,
   "id": "edf275a9",
   "metadata": {},
   "outputs": [
    {
     "data": {
      "text/html": [
       "<div>\n",
       "<style scoped>\n",
       "    .dataframe tbody tr th:only-of-type {\n",
       "        vertical-align: middle;\n",
       "    }\n",
       "\n",
       "    .dataframe tbody tr th {\n",
       "        vertical-align: top;\n",
       "    }\n",
       "\n",
       "    .dataframe thead th {\n",
       "        text-align: right;\n",
       "    }\n",
       "</style>\n",
       "<table border=\"1\" class=\"dataframe\">\n",
       "  <thead>\n",
       "    <tr style=\"text-align: right;\">\n",
       "      <th></th>\n",
       "      <th>Winner</th>\n",
       "      <th>FT</th>\n",
       "      <th>Loser</th>\n",
       "      <th>First Shooter</th>\n",
       "      <th>FirstShooterWon</th>\n",
       "    </tr>\n",
       "  </thead>\n",
       "  <tbody>\n",
       "    <tr>\n",
       "      <th>0</th>\n",
       "      <td>West Germany</td>\n",
       "      <td>3–3</td>\n",
       "      <td>France</td>\n",
       "      <td>France</td>\n",
       "      <td>False</td>\n",
       "    </tr>\n",
       "    <tr>\n",
       "      <th>1</th>\n",
       "      <td>France</td>\n",
       "      <td>1–1</td>\n",
       "      <td>Brazil</td>\n",
       "      <td>Brazil</td>\n",
       "      <td>False</td>\n",
       "    </tr>\n",
       "    <tr>\n",
       "      <th>2</th>\n",
       "      <td>West Germany</td>\n",
       "      <td>0–0</td>\n",
       "      <td>Mexico</td>\n",
       "      <td>West Germany</td>\n",
       "      <td>True</td>\n",
       "    </tr>\n",
       "    <tr>\n",
       "      <th>3</th>\n",
       "      <td>Belgium</td>\n",
       "      <td>1–1</td>\n",
       "      <td>Spain</td>\n",
       "      <td>Spain</td>\n",
       "      <td>False</td>\n",
       "    </tr>\n",
       "    <tr>\n",
       "      <th>4</th>\n",
       "      <td>Republic of Ireland</td>\n",
       "      <td>0–0</td>\n",
       "      <td>Romania</td>\n",
       "      <td>Romania</td>\n",
       "      <td>False</td>\n",
       "    </tr>\n",
       "    <tr>\n",
       "      <th>...</th>\n",
       "      <td>...</td>\n",
       "      <td>...</td>\n",
       "      <td>...</td>\n",
       "      <td>...</td>\n",
       "      <td>...</td>\n",
       "    </tr>\n",
       "    <tr>\n",
       "      <th>28</th>\n",
       "      <td>Argentina</td>\n",
       "      <td>1–1</td>\n",
       "      <td>Colombia</td>\n",
       "      <td>Colombia</td>\n",
       "      <td>False</td>\n",
       "    </tr>\n",
       "    <tr>\n",
       "      <th>29</th>\n",
       "      <td>Argentina</td>\n",
       "      <td>1–1</td>\n",
       "      <td>Ecuador</td>\n",
       "      <td>Argentina</td>\n",
       "      <td>True</td>\n",
       "    </tr>\n",
       "    <tr>\n",
       "      <th>30</th>\n",
       "      <td>Canada</td>\n",
       "      <td>1–1</td>\n",
       "      <td>Venezuela</td>\n",
       "      <td>Venezuela</td>\n",
       "      <td>False</td>\n",
       "    </tr>\n",
       "    <tr>\n",
       "      <th>31</th>\n",
       "      <td>Uruguay</td>\n",
       "      <td>0–0</td>\n",
       "      <td>Brazil</td>\n",
       "      <td>Uruguay</td>\n",
       "      <td>True</td>\n",
       "    </tr>\n",
       "    <tr>\n",
       "      <th>32</th>\n",
       "      <td>Uruguay</td>\n",
       "      <td>2–2</td>\n",
       "      <td>Canada</td>\n",
       "      <td>Canada</td>\n",
       "      <td>False</td>\n",
       "    </tr>\n",
       "  </tbody>\n",
       "</table>\n",
       "<p>93 rows × 5 columns</p>\n",
       "</div>"
      ],
      "text/plain": [
       "                 Winner   FT      Loser First Shooter  FirstShooterWon\n",
       "0          West Germany  3–3     France        France            False\n",
       "1                France  1–1     Brazil        Brazil            False\n",
       "2          West Germany  0–0     Mexico  West Germany             True\n",
       "3               Belgium  1–1      Spain         Spain            False\n",
       "4   Republic of Ireland  0–0    Romania       Romania            False\n",
       "..                  ...  ...        ...           ...              ...\n",
       "28            Argentina  1–1   Colombia      Colombia            False\n",
       "29            Argentina  1–1    Ecuador     Argentina             True\n",
       "30               Canada  1–1  Venezuela     Venezuela            False\n",
       "31              Uruguay  0–0     Brazil       Uruguay             True\n",
       "32              Uruguay  2–2     Canada        Canada            False\n",
       "\n",
       "[93 rows x 5 columns]"
      ]
     },
     "execution_count": 6,
     "metadata": {},
     "output_type": "execute_result"
    }
   ],
   "source": [
    "combined_df"
   ]
  },
  {
   "cell_type": "code",
   "execution_count": 7,
   "id": "145cba99",
   "metadata": {},
   "outputs": [],
   "source": [
    "first_shooter_won = combined_df[\"FirstShooterWon\"].sum()"
   ]
  },
  {
   "cell_type": "code",
   "execution_count": 8,
   "id": "94caf641",
   "metadata": {},
   "outputs": [],
   "source": [
    "second_shooter_won = (~combined_df[\"FirstShooterWon\"]).sum()"
   ]
  },
  {
   "cell_type": "code",
   "execution_count": 9,
   "id": "515e70de",
   "metadata": {},
   "outputs": [
    {
     "name": "stdout",
     "output_type": "stream",
     "text": [
      "Number of times first shooter won:  46\n"
     ]
    }
   ],
   "source": [
    "print(f\"Number of times first shooter won:  {first_shooter_won}\")"
   ]
  },
  {
   "cell_type": "code",
   "execution_count": 10,
   "id": "97200a3d",
   "metadata": {},
   "outputs": [
    {
     "name": "stdout",
     "output_type": "stream",
     "text": [
      "Number of times second shooter won:  47\n"
     ]
    }
   ],
   "source": [
    "print(f\"Number of times second shooter won:  {second_shooter_won}\")"
   ]
  },
  {
   "cell_type": "code",
   "execution_count": 15,
   "id": "9010d871",
   "metadata": {},
   "outputs": [
    {
     "data": {
      "image/png": "[encoded data removed]",
      "text/plain": [
       "<Figure size 600x600 with 1 Axes>"
      ]
     },
     "metadata": {},
     "output_type": "display_data"
    }
   ],
   "source": [
    "\n",
    "win_rate = combined_df['FirstShooterWon'].mean()\n",
    "\n",
    "labels = ['First Shooter WON', 'Second Shooter WON']\n",
    "sizes = [win_rate, 1 - win_rate]\n",
    "colors = ['#4CAF50', '#F44336']\n",
    "explode = (0.05, 0)\n",
    "\n",
    "fig, ax = plt.subplots(figsize=(6, 6))\n",
    "wedges, texts, autotexts = ax.pie(\n",
    "    sizes,\n",
    "    labels=labels,\n",
    "    autopct='%1.1f%%',\n",
    "    startangle=90,\n",
    "    colors=colors,\n",
    "    explode=explode,\n",
    "    wedgeprops={'width': 0.4},\n",
    "    textprops={'fontsize': 12}\n",
    ")\n",
    "\n",
    "ax.set(aspect=\"equal\")\n",
    "\n",
    "plt.title(\"Win Rate Shooting First vs Second in Penalty Shootouts\", fontsize=14)\n",
    "plt.tight_layout()\n",
    "plt.savefig('my_plot.png',dpi=1000)\n",
    "\n",
    "plt.show()\n"
   ]
  }
 ],
 "metadata": {
  "kernelspec": {
   "display_name": "Python 3",
   "language": "python",
   "name": "python3"
  },
  "language_info": {
   "codemirror_mode": {
    "name": "ipython",
    "version": 3
   },
   "file_extension": ".py",
   "mimetype": "text/x-python",
   "name": "python",
   "nbconvert_exporter": "python",
   "pygments_lexer": "ipython3",
   "version": "3.13.5"
  }
 },
 "nbformat": 4,
 "nbformat_minor": 5
}
